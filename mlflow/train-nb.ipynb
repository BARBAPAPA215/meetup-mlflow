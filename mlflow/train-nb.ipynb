{
 "cells": [
  {
   "cell_type": "code",
   "execution_count": 1,
   "metadata": {},
   "outputs": [
    {
     "name": "stderr",
     "output_type": "stream",
     "text": [
      "Using TensorFlow backend.\n"
     ]
    }
   ],
   "source": [
    "import pandas as pd\n",
    "import numpy as np\n",
    "import string\n",
    "from sklearn.feature_extraction.text import CountVectorizer, TfidfVectorizer\n",
    "from sklearn.preprocessing import StandardScaler\n",
    "from sklearn.linear_model import LogisticRegression\n",
    "from sklearn.metrics import confusion_matrix, classification_report, f1_score, auc as sk_auc, roc_curve, precision_score, recall_score\n",
    "from sklearn.decomposition import TruncatedSVD\n",
    "from sklearn.model_selection import train_test_split, StratifiedKFold\n",
    "import pickle\n",
    "import random\n",
    "import re\n",
    "import keras"
   ]
  },
  {
   "cell_type": "code",
   "execution_count": 2,
   "metadata": {},
   "outputs": [],
   "source": [
    "df = pd.read_csv(\"data/course_descriptions.csv\", usecols=[1,2,3,4,5,6])"
   ]
  },
  {
   "cell_type": "code",
   "execution_count": 3,
   "metadata": {},
   "outputs": [
    {
     "data": {
      "text/html": [
       "<div>\n",
       "<style scoped>\n",
       "    .dataframe tbody tr th:only-of-type {\n",
       "        vertical-align: middle;\n",
       "    }\n",
       "\n",
       "    .dataframe tbody tr th {\n",
       "        vertical-align: top;\n",
       "    }\n",
       "\n",
       "    .dataframe thead th {\n",
       "        text-align: right;\n",
       "    }\n",
       "</style>\n",
       "<table border=\"1\" class=\"dataframe\">\n",
       "  <thead>\n",
       "    <tr style=\"text-align: right;\">\n",
       "      <th></th>\n",
       "      <th>description</th>\n",
       "      <th>length</th>\n",
       "      <th>course</th>\n",
       "      <th>ouid</th>\n",
       "      <th>fac</th>\n",
       "      <th>inst</th>\n",
       "    </tr>\n",
       "  </thead>\n",
       "  <tbody>\n",
       "    <tr>\n",
       "      <th>603</th>\n",
       "      <td>The course is built up around 3 design project...</td>\n",
       "      <td>788</td>\n",
       "      <td>TPD4127</td>\n",
       "      <td>840</td>\n",
       "      <td>AD</td>\n",
       "      <td>AD-ID</td>\n",
       "    </tr>\n",
       "    <tr>\n",
       "      <th>3899</th>\n",
       "      <td>Chemical engineering thermodynamics is a basis...</td>\n",
       "      <td>1631</td>\n",
       "      <td>TKP4107</td>\n",
       "      <td>869</td>\n",
       "      <td>NV</td>\n",
       "      <td>NV-IKP</td>\n",
       "    </tr>\n",
       "    <tr>\n",
       "      <th>300</th>\n",
       "      <td>See: http://nordkurs.org/There will be present...</td>\n",
       "      <td>220</td>\n",
       "      <td>NORD2261</td>\n",
       "      <td>1080</td>\n",
       "      <td>HF</td>\n",
       "      <td>HF-ISL</td>\n",
       "    </tr>\n",
       "    <tr>\n",
       "      <th>728</th>\n",
       "      <td>1. Knowledge. The student has knowledge of fun...</td>\n",
       "      <td>601</td>\n",
       "      <td>MA3002</td>\n",
       "      <td>828</td>\n",
       "      <td>IE</td>\n",
       "      <td>IE-IMF</td>\n",
       "    </tr>\n",
       "    <tr>\n",
       "      <th>2534</th>\n",
       "      <td>Nursing - field and function II:\\r\\r\\nNursing ...</td>\n",
       "      <td>2936</td>\n",
       "      <td>SPL2012</td>\n",
       "      <td>1102</td>\n",
       "      <td>MH</td>\n",
       "      <td>MH-IHG</td>\n",
       "    </tr>\n",
       "    <tr>\n",
       "      <th>2465</th>\n",
       "      <td>After completing the course, the student \\r\\r\\...</td>\n",
       "      <td>3813</td>\n",
       "      <td>FH3102</td>\n",
       "      <td>1102</td>\n",
       "      <td>MH</td>\n",
       "      <td>MH-IHG</td>\n",
       "    </tr>\n",
       "    <tr>\n",
       "      <th>1531</th>\n",
       "      <td>This course will provide an overview of the mo...</td>\n",
       "      <td>1627</td>\n",
       "      <td>TGB4270</td>\n",
       "      <td>1216</td>\n",
       "      <td>IV</td>\n",
       "      <td>IV-IGP</td>\n",
       "    </tr>\n",
       "    <tr>\n",
       "      <th>2790</th>\n",
       "      <td>Statically determinate structures: Beams, plan...</td>\n",
       "      <td>1419</td>\n",
       "      <td>TKT4126</td>\n",
       "      <td>843</td>\n",
       "      <td>IV</td>\n",
       "      <td>IV-KT</td>\n",
       "    </tr>\n",
       "    <tr>\n",
       "      <th>1227</th>\n",
       "      <td>The aim is to establish methods for probabilis...</td>\n",
       "      <td>2178</td>\n",
       "      <td>MR8502</td>\n",
       "      <td>838</td>\n",
       "      <td>IV</td>\n",
       "      <td>IV-IMT</td>\n",
       "    </tr>\n",
       "    <tr>\n",
       "      <th>3400</th>\n",
       "      <td>The course is taught every second year, next t...</td>\n",
       "      <td>2280</td>\n",
       "      <td>TM8101</td>\n",
       "      <td>831</td>\n",
       "      <td>IE</td>\n",
       "      <td>IE-IIK</td>\n",
       "    </tr>\n",
       "  </tbody>\n",
       "</table>\n",
       "</div>"
      ],
      "text/plain": [
       "                                            description  length    course  \\\n",
       "603   The course is built up around 3 design project...     788   TPD4127   \n",
       "3899  Chemical engineering thermodynamics is a basis...    1631   TKP4107   \n",
       "300   See: http://nordkurs.org/There will be present...     220  NORD2261   \n",
       "728   1. Knowledge. The student has knowledge of fun...     601    MA3002   \n",
       "2534  Nursing - field and function II:\\r\\r\\nNursing ...    2936   SPL2012   \n",
       "2465  After completing the course, the student \\r\\r\\...    3813    FH3102   \n",
       "1531  This course will provide an overview of the mo...    1627   TGB4270   \n",
       "2790  Statically determinate structures: Beams, plan...    1419   TKT4126   \n",
       "1227  The aim is to establish methods for probabilis...    2178    MR8502   \n",
       "3400  The course is taught every second year, next t...    2280    TM8101   \n",
       "\n",
       "      ouid fac    inst  \n",
       "603    840  AD   AD-ID  \n",
       "3899   869  NV  NV-IKP  \n",
       "300   1080  HF  HF-ISL  \n",
       "728    828  IE  IE-IMF  \n",
       "2534  1102  MH  MH-IHG  \n",
       "2465  1102  MH  MH-IHG  \n",
       "1531  1216  IV  IV-IGP  \n",
       "2790   843  IV   IV-KT  \n",
       "1227   838  IV  IV-IMT  \n",
       "3400   831  IE  IE-IIK  "
      ]
     },
     "execution_count": 3,
     "metadata": {},
     "output_type": "execute_result"
    }
   ],
   "source": [
    "df.sample(10)"
   ]
  },
  {
   "cell_type": "code",
   "execution_count": 4,
   "metadata": {},
   "outputs": [],
   "source": [
    "df = df.dropna() #loc[~df[\"description\"].isnull()]"
   ]
  },
  {
   "cell_type": "code",
   "execution_count": 5,
   "metadata": {},
   "outputs": [
    {
     "data": {
      "text/plain": [
       "array([['The main focus of the course is to build intelligent systems based on two key natural concepts: evolution by natural selection and swarm intelligence.  Such intelligent systems have thousands of useful applications in fields as diverse as control theory, telecommunications, music and art.  This course discusses both methods in great detail along with providing a bit of the biological basis for each.Lecture slides, a textbook (possibly 2).  Textbooks are chosen  at the beginning of the semester.Students will get both theoretical and practical programming experience with two of the best known sub-symbolic AI methods: evolutionary algorithms and swarm intelligence algorithms. ',\n",
       "        682, 'IT3708', 827, 'IE', 'IE-IDI']], dtype=object)"
      ]
     },
     "execution_count": 5,
     "metadata": {},
     "output_type": "execute_result"
    }
   ],
   "source": [
    "df.loc[df.course==\"IT3708\"].values"
   ]
  },
  {
   "cell_type": "code",
   "execution_count": 56,
   "metadata": {},
   "outputs": [
    {
     "data": {
      "text/plain": [
       "IV    913\n",
       "HF    634\n",
       "IE    616\n",
       "SU    504\n",
       "NV    423\n",
       "OK    384\n",
       "MH    296\n",
       "AD    213\n",
       "Name: fac, dtype: int64"
      ]
     },
     "execution_count": 56,
     "metadata": {},
     "output_type": "execute_result"
    }
   ],
   "source": [
    "df.fac.value_counts()"
   ]
  },
  {
   "cell_type": "code",
   "execution_count": 6,
   "metadata": {},
   "outputs": [],
   "source": [
    "def remove_punctuation(document):\n",
    "    return \"\".join([ (c if c not in string.punctuation+\"\\n\\r\\t\" else \" \") for c in document])\n",
    "\n",
    "def tokenize(document):\n",
    "    return [w.lower() for w in remove_punctuation(document).split(\" \") if len(w)>0]"
   ]
  },
  {
   "cell_type": "code",
   "execution_count": 7,
   "metadata": {},
   "outputs": [],
   "source": [
    "stoplist = [l.strip() for l in open(\"stopwords.txt\", \"r\").readlines()]"
   ]
  },
  {
   "cell_type": "code",
   "execution_count": 8,
   "metadata": {},
   "outputs": [
    {
     "data": {
      "text/plain": [
       "['a',\n",
       " 'able',\n",
       " 'about',\n",
       " 'across',\n",
       " 'after',\n",
       " 'all',\n",
       " 'almost',\n",
       " 'also',\n",
       " 'am',\n",
       " 'among',\n",
       " 'an',\n",
       " 'and',\n",
       " 'any',\n",
       " 'are',\n",
       " 'as',\n",
       " 'at',\n",
       " 'be',\n",
       " 'because',\n",
       " 'been',\n",
       " 'but',\n",
       " 'by',\n",
       " 'can',\n",
       " 'cannot',\n",
       " 'could',\n",
       " 'dear',\n",
       " 'did',\n",
       " 'do',\n",
       " 'does',\n",
       " 'either',\n",
       " 'else',\n",
       " 'ever',\n",
       " 'every',\n",
       " 'for',\n",
       " 'from',\n",
       " 'get',\n",
       " 'got',\n",
       " 'had',\n",
       " 'has',\n",
       " 'have',\n",
       " 'he',\n",
       " 'her',\n",
       " 'hers',\n",
       " 'him',\n",
       " 'his',\n",
       " 'how',\n",
       " 'however',\n",
       " 'i',\n",
       " 'if',\n",
       " 'in',\n",
       " 'into',\n",
       " 'is',\n",
       " 'it',\n",
       " 'its',\n",
       " 'just',\n",
       " 'least',\n",
       " 'let',\n",
       " 'like',\n",
       " 'likely',\n",
       " 'may',\n",
       " 'me',\n",
       " 'might',\n",
       " 'most',\n",
       " 'must',\n",
       " 'my',\n",
       " 'neither',\n",
       " 'no',\n",
       " 'nor',\n",
       " 'not',\n",
       " 'of',\n",
       " 'off',\n",
       " 'often',\n",
       " 'on',\n",
       " 'only',\n",
       " 'or',\n",
       " 'other',\n",
       " 'our',\n",
       " 'own',\n",
       " 'rather',\n",
       " 'said',\n",
       " 'say',\n",
       " 'says',\n",
       " 'she',\n",
       " 'should',\n",
       " 'since',\n",
       " 'so',\n",
       " 'some',\n",
       " 'than',\n",
       " 'that',\n",
       " 'the',\n",
       " 'their',\n",
       " 'them',\n",
       " 'then',\n",
       " 'there',\n",
       " 'these',\n",
       " 'they',\n",
       " 'this',\n",
       " 'tis',\n",
       " 'to',\n",
       " 'too',\n",
       " 'twas',\n",
       " 'us',\n",
       " 'wants',\n",
       " 'was',\n",
       " 'we',\n",
       " 'were',\n",
       " 'what',\n",
       " 'when',\n",
       " 'where',\n",
       " 'which',\n",
       " 'while',\n",
       " 'who',\n",
       " 'whom',\n",
       " 'why',\n",
       " 'will',\n",
       " 'with',\n",
       " 'would',\n",
       " 'yet',\n",
       " 'you',\n",
       " 'your']"
      ]
     },
     "execution_count": 8,
     "metadata": {},
     "output_type": "execute_result"
    }
   ],
   "source": [
    "stoplist"
   ]
  },
  {
   "cell_type": "code",
   "execution_count": 36,
   "metadata": {
    "scrolled": true
   },
   "outputs": [
    {
     "data": {
      "text/plain": [
       "((2987,), (2987,), (996,), (996,))"
      ]
     },
     "execution_count": 36,
     "metadata": {},
     "output_type": "execute_result"
    }
   ],
   "source": [
    "y = df[\"fac\"].astype(str)\n",
    "X_train, X_test, y_train, y_test = train_test_split(df[\"description\"], y, stratify=y)\n",
    "X_train.shape, y_train.shape, X_test.shape, y_test.shape"
   ]
  },
  {
   "cell_type": "code",
   "execution_count": 57,
   "metadata": {},
   "outputs": [
    {
     "data": {
      "text/plain": [
       "IV    228\n",
       "HF    159\n",
       "IE    154\n",
       "SU    126\n",
       "NV    106\n",
       "OK     96\n",
       "MH     74\n",
       "AD     53\n",
       "Name: fac, dtype: int64"
      ]
     },
     "execution_count": 57,
     "metadata": {},
     "output_type": "execute_result"
    }
   ],
   "source": [
    "y_test.value_counts()"
   ]
  },
  {
   "cell_type": "code",
   "execution_count": 58,
   "metadata": {},
   "outputs": [
    {
     "data": {
      "text/plain": [
       "IV    685\n",
       "HF    475\n",
       "IE    462\n",
       "SU    378\n",
       "NV    317\n",
       "OK    288\n",
       "MH    222\n",
       "AD    160\n",
       "Name: fac, dtype: int64"
      ]
     },
     "execution_count": 58,
     "metadata": {},
     "output_type": "execute_result"
    }
   ],
   "source": [
    "y_train.value_counts()"
   ]
  },
  {
   "cell_type": "code",
   "execution_count": 37,
   "metadata": {},
   "outputs": [],
   "source": [
    "vec = TfidfVectorizer(tokenizer=tokenize, stop_words=stoplist, ngram_range=(1,2))\n",
    "trn_vec= vec.fit_transform(X_train.values)\n",
    "test_vec = vec.transform(X_test.values)"
   ]
  },
  {
   "cell_type": "code",
   "execution_count": 38,
   "metadata": {},
   "outputs": [
    {
     "data": {
      "text/plain": [
       "((2987, 9), (996, 9))"
      ]
     },
     "execution_count": 38,
     "metadata": {},
     "output_type": "execute_result"
    }
   ],
   "source": [
    "X_train = pd.concat([X_train, pd.get_dummies(y_train)], axis=1)\n",
    "X_test = pd.concat([X_test, pd.get_dummies(y_test)], axis=1)\n",
    "X_train.shape, X_test.shape"
   ]
  },
  {
   "cell_type": "code",
   "execution_count": 39,
   "metadata": {},
   "outputs": [
    {
     "data": {
      "text/html": [
       "<div>\n",
       "<style scoped>\n",
       "    .dataframe tbody tr th:only-of-type {\n",
       "        vertical-align: middle;\n",
       "    }\n",
       "\n",
       "    .dataframe tbody tr th {\n",
       "        vertical-align: top;\n",
       "    }\n",
       "\n",
       "    .dataframe thead th {\n",
       "        text-align: right;\n",
       "    }\n",
       "</style>\n",
       "<table border=\"1\" class=\"dataframe\">\n",
       "  <thead>\n",
       "    <tr style=\"text-align: right;\">\n",
       "      <th></th>\n",
       "      <th>description</th>\n",
       "      <th>AD</th>\n",
       "      <th>HF</th>\n",
       "      <th>IE</th>\n",
       "      <th>IV</th>\n",
       "      <th>MH</th>\n",
       "      <th>NV</th>\n",
       "      <th>OK</th>\n",
       "      <th>SU</th>\n",
       "    </tr>\n",
       "  </thead>\n",
       "  <tbody>\n",
       "    <tr>\n",
       "      <th>3667</th>\n",
       "      <td>PLU8022 is focused on qualitative analysis of ...</td>\n",
       "      <td>0</td>\n",
       "      <td>0</td>\n",
       "      <td>0</td>\n",
       "      <td>0</td>\n",
       "      <td>0</td>\n",
       "      <td>0</td>\n",
       "      <td>0</td>\n",
       "      <td>1</td>\n",
       "    </tr>\n",
       "    <tr>\n",
       "      <th>2020</th>\n",
       "      <td>The course treats modelling of water resources...</td>\n",
       "      <td>0</td>\n",
       "      <td>0</td>\n",
       "      <td>0</td>\n",
       "      <td>1</td>\n",
       "      <td>0</td>\n",
       "      <td>0</td>\n",
       "      <td>0</td>\n",
       "      <td>0</td>\n",
       "    </tr>\n",
       "    <tr>\n",
       "      <th>2436</th>\n",
       "      <td>Topic 1: The context of integrated care.\\r\\n\\r...</td>\n",
       "      <td>0</td>\n",
       "      <td>0</td>\n",
       "      <td>0</td>\n",
       "      <td>0</td>\n",
       "      <td>1</td>\n",
       "      <td>0</td>\n",
       "      <td>0</td>\n",
       "      <td>0</td>\n",
       "    </tr>\n",
       "    <tr>\n",
       "      <th>297</th>\n",
       "      <td>Economic design criteria, investment and socio...</td>\n",
       "      <td>0</td>\n",
       "      <td>0</td>\n",
       "      <td>0</td>\n",
       "      <td>1</td>\n",
       "      <td>0</td>\n",
       "      <td>0</td>\n",
       "      <td>0</td>\n",
       "      <td>0</td>\n",
       "    </tr>\n",
       "    <tr>\n",
       "      <th>1095</th>\n",
       "      <td>The course is a study of religions originating...</td>\n",
       "      <td>0</td>\n",
       "      <td>1</td>\n",
       "      <td>0</td>\n",
       "      <td>0</td>\n",
       "      <td>0</td>\n",
       "      <td>0</td>\n",
       "      <td>0</td>\n",
       "      <td>0</td>\n",
       "    </tr>\n",
       "  </tbody>\n",
       "</table>\n",
       "</div>"
      ],
      "text/plain": [
       "                                            description  AD  HF  IE  IV  MH  \\\n",
       "3667  PLU8022 is focused on qualitative analysis of ...   0   0   0   0   0   \n",
       "2020  The course treats modelling of water resources...   0   0   0   1   0   \n",
       "2436  Topic 1: The context of integrated care.\\r\\n\\r...   0   0   0   0   1   \n",
       "297   Economic design criteria, investment and socio...   0   0   0   1   0   \n",
       "1095  The course is a study of religions originating...   0   1   0   0   0   \n",
       "\n",
       "      NV  OK  SU  \n",
       "3667   0   0   1  \n",
       "2020   0   0   0  \n",
       "2436   0   0   0  \n",
       "297    0   0   0  \n",
       "1095   0   0   0  "
      ]
     },
     "execution_count": 39,
     "metadata": {},
     "output_type": "execute_result"
    }
   ],
   "source": [
    "X_train.sample(5)"
   ]
  },
  {
   "cell_type": "code",
   "execution_count": 40,
   "metadata": {
    "scrolled": true
   },
   "outputs": [
    {
     "name": "stdout",
     "output_type": "stream",
     "text": [
      "['IE', 'HF', 'IV', 'AD', 'SU', 'MH', 'NV', 'OK']\n"
     ]
    },
    {
     "data": {
      "text/plain": [
       "(996, 8)"
      ]
     },
     "execution_count": 40,
     "metadata": {},
     "output_type": "execute_result"
    }
   ],
   "source": [
    "label_cols = df[\"fac\"].astype(str).unique().tolist()\n",
    "print(label_cols)\n",
    "preds = np.zeros((len(X_test), len(label_cols)))\n",
    "preds.shape"
   ]
  },
  {
   "cell_type": "code",
   "execution_count": 41,
   "metadata": {},
   "outputs": [
    {
     "data": {
      "text/plain": [
       "((2987, 224171), (996, 224171), (996, 9))"
      ]
     },
     "execution_count": 41,
     "metadata": {},
     "output_type": "execute_result"
    }
   ],
   "source": [
    "trn_vec.shape,test_vec.shape,  X_test.shape"
   ]
  },
  {
   "cell_type": "code",
   "execution_count": 42,
   "metadata": {},
   "outputs": [],
   "source": [
    "def prior(y_i, y):\n",
    "    '''\n",
    "    y_i is either 1 or 0.\n",
    "    y is numpy array of labels\n",
    "    '''\n",
    "    p = trn_vec[y==y_i].sum(0) # Number of documents in trn_doc with given label\n",
    "    return (p+1) / ((y==y_i).sum()+1) # Fraction of all documents with given label"
   ]
  },
  {
   "cell_type": "code",
   "execution_count": 43,
   "metadata": {},
   "outputs": [],
   "source": [
    "def get_mdl(y):\n",
    "    y = y.values #pandas Series to numpy array\n",
    "    r = np.log(prior(1,y) / prior(0,y)) #Log likelihood ratio for both possibilities\n",
    "    m = LogisticRegression(C=4, dual=True) # Logistic regression model\n",
    "    x_nb = trn_vec.multiply(r) # Multiply the Tf-idf features with this ratio\n",
    "    return m.fit(x_nb, y), r"
   ]
  },
  {
   "cell_type": "code",
   "execution_count": 45,
   "metadata": {},
   "outputs": [],
   "source": [
    "TRAIN = True\n",
    "SAVE = False"
   ]
  },
  {
   "cell_type": "code",
   "execution_count": 46,
   "metadata": {},
   "outputs": [
    {
     "name": "stdout",
     "output_type": "stream",
     "text": [
      "fit IE\n",
      "fit HF\n",
      "fit IV\n",
      "fit AD\n",
      "fit SU\n",
      "fit MH\n",
      "fit NV\n",
      "fit OK\n"
     ]
    }
   ],
   "source": [
    "models = {}\n",
    "rs = {}\n",
    "for i, j in enumerate(label_cols):\n",
    "    print('fit', j)\n",
    "    m,r = get_mdl(X_train[j])\n",
    "    if TRAIN:\n",
    "        preds[:,i] = m.predict_proba(test_vec.multiply(r))[:,1]\n",
    "    else:\n",
    "        if SAVE:\n",
    "            np.save(open(\"webapp/r_\"+j+\".npy\", \"wb\"), r)\n",
    "            pickle.dump(m, open(\"webapp/\"+j+\"_model.pkl\", \"wb\"))\n",
    "    models[j] = m\n",
    "    rs[j] = r"
   ]
  },
  {
   "cell_type": "code",
   "execution_count": 86,
   "metadata": {},
   "outputs": [
    {
     "data": {
      "text/html": [
       "<div>\n",
       "<style scoped>\n",
       "    .dataframe tbody tr th:only-of-type {\n",
       "        vertical-align: middle;\n",
       "    }\n",
       "\n",
       "    .dataframe tbody tr th {\n",
       "        vertical-align: top;\n",
       "    }\n",
       "\n",
       "    .dataframe thead th {\n",
       "        text-align: right;\n",
       "    }\n",
       "</style>\n",
       "<table border=\"1\" class=\"dataframe\">\n",
       "  <thead>\n",
       "    <tr style=\"text-align: right;\">\n",
       "      <th></th>\n",
       "      <th>IE</th>\n",
       "      <th>HF</th>\n",
       "      <th>IV</th>\n",
       "      <th>AD</th>\n",
       "      <th>SU</th>\n",
       "      <th>MH</th>\n",
       "      <th>NV</th>\n",
       "      <th>OK</th>\n",
       "    </tr>\n",
       "  </thead>\n",
       "  <tbody>\n",
       "    <tr>\n",
       "      <th>0</th>\n",
       "      <td>0.024581</td>\n",
       "      <td>0.101164</td>\n",
       "      <td>0.033143</td>\n",
       "      <td>0.008138</td>\n",
       "      <td>0.127713</td>\n",
       "      <td>0.036769</td>\n",
       "      <td>0.017182</td>\n",
       "      <td>0.020509</td>\n",
       "    </tr>\n",
       "    <tr>\n",
       "      <th>1</th>\n",
       "      <td>0.097901</td>\n",
       "      <td>0.011977</td>\n",
       "      <td>0.716195</td>\n",
       "      <td>0.005418</td>\n",
       "      <td>0.012404</td>\n",
       "      <td>0.007123</td>\n",
       "      <td>0.016306</td>\n",
       "      <td>0.010501</td>\n",
       "    </tr>\n",
       "    <tr>\n",
       "      <th>2</th>\n",
       "      <td>0.026444</td>\n",
       "      <td>0.804153</td>\n",
       "      <td>0.040122</td>\n",
       "      <td>0.005620</td>\n",
       "      <td>0.013313</td>\n",
       "      <td>0.006747</td>\n",
       "      <td>0.014179</td>\n",
       "      <td>0.011207</td>\n",
       "    </tr>\n",
       "    <tr>\n",
       "      <th>3</th>\n",
       "      <td>0.040366</td>\n",
       "      <td>0.013063</td>\n",
       "      <td>0.977180</td>\n",
       "      <td>0.008971</td>\n",
       "      <td>0.016292</td>\n",
       "      <td>0.007264</td>\n",
       "      <td>0.020646</td>\n",
       "      <td>0.011572</td>\n",
       "    </tr>\n",
       "    <tr>\n",
       "      <th>4</th>\n",
       "      <td>0.051619</td>\n",
       "      <td>0.020096</td>\n",
       "      <td>0.078256</td>\n",
       "      <td>0.006793</td>\n",
       "      <td>0.015920</td>\n",
       "      <td>0.131410</td>\n",
       "      <td>0.960620</td>\n",
       "      <td>0.011461</td>\n",
       "    </tr>\n",
       "  </tbody>\n",
       "</table>\n",
       "</div>"
      ],
      "text/plain": [
       "         IE        HF        IV        AD        SU        MH        NV  \\\n",
       "0  0.024581  0.101164  0.033143  0.008138  0.127713  0.036769  0.017182   \n",
       "1  0.097901  0.011977  0.716195  0.005418  0.012404  0.007123  0.016306   \n",
       "2  0.026444  0.804153  0.040122  0.005620  0.013313  0.006747  0.014179   \n",
       "3  0.040366  0.013063  0.977180  0.008971  0.016292  0.007264  0.020646   \n",
       "4  0.051619  0.020096  0.078256  0.006793  0.015920  0.131410  0.960620   \n",
       "\n",
       "         OK  \n",
       "0  0.020509  \n",
       "1  0.010501  \n",
       "2  0.011207  \n",
       "3  0.011572  \n",
       "4  0.011461  "
      ]
     },
     "execution_count": 86,
     "metadata": {},
     "output_type": "execute_result"
    }
   ],
   "source": [
    "df_preds = pd.DataFrame(preds, columns=label_cols)\n",
    "\n",
    "for c in df_preds.columns:\n",
    "    df_preds[c+\"_predicted\"] = (df_preds.max(axis=1)==df_preds[c]).astype(int)\n",
    "\n",
    "oh_y_test = pd.get_dummies(y_test)\n",
    "oh_y_test = oh_y_test.rename({c:c+\"_actual\" for c in oh_y_test.columns},axis=1)\n",
    "\n",
    "df_preds = pd.concat([df_preds, oh_y_test.reset_index()], axis=1)\n",
    "\n",
    "res_df = pd.DataFrame(confusion_matrix(df_preds.loc[:,[c+\"_actual\" for c in label_cols]].values.argmax(1), df_preds.loc[:,[c+\"_predicted\" for c in label_cols]].values.argmax(1)), index=label_cols, columns=label_cols)"
   ]
  },
  {
   "cell_type": "code",
   "execution_count": 92,
   "metadata": {},
   "outputs": [
    {
     "data": {
      "text/html": [
       "<div>\n",
       "<style scoped>\n",
       "    .dataframe tbody tr th:only-of-type {\n",
       "        vertical-align: middle;\n",
       "    }\n",
       "\n",
       "    .dataframe tbody tr th {\n",
       "        vertical-align: top;\n",
       "    }\n",
       "\n",
       "    .dataframe thead th {\n",
       "        text-align: right;\n",
       "    }\n",
       "</style>\n",
       "<table border=\"1\" class=\"dataframe\">\n",
       "  <thead>\n",
       "    <tr style=\"text-align: right;\">\n",
       "      <th></th>\n",
       "      <th>IE</th>\n",
       "      <th>HF</th>\n",
       "      <th>IV</th>\n",
       "      <th>AD</th>\n",
       "      <th>SU</th>\n",
       "      <th>MH</th>\n",
       "      <th>NV</th>\n",
       "      <th>OK</th>\n",
       "    </tr>\n",
       "  </thead>\n",
       "  <tbody>\n",
       "    <tr>\n",
       "      <th>IE</th>\n",
       "      <td>131</td>\n",
       "      <td>4</td>\n",
       "      <td>14</td>\n",
       "      <td>1</td>\n",
       "      <td>1</td>\n",
       "      <td>0</td>\n",
       "      <td>0</td>\n",
       "      <td>3</td>\n",
       "    </tr>\n",
       "    <tr>\n",
       "      <th>HF</th>\n",
       "      <td>2</td>\n",
       "      <td>150</td>\n",
       "      <td>3</td>\n",
       "      <td>0</td>\n",
       "      <td>4</td>\n",
       "      <td>0</td>\n",
       "      <td>0</td>\n",
       "      <td>0</td>\n",
       "    </tr>\n",
       "    <tr>\n",
       "      <th>IV</th>\n",
       "      <td>11</td>\n",
       "      <td>1</td>\n",
       "      <td>204</td>\n",
       "      <td>2</td>\n",
       "      <td>4</td>\n",
       "      <td>0</td>\n",
       "      <td>1</td>\n",
       "      <td>5</td>\n",
       "    </tr>\n",
       "    <tr>\n",
       "      <th>AD</th>\n",
       "      <td>6</td>\n",
       "      <td>0</td>\n",
       "      <td>12</td>\n",
       "      <td>34</td>\n",
       "      <td>1</td>\n",
       "      <td>0</td>\n",
       "      <td>0</td>\n",
       "      <td>0</td>\n",
       "    </tr>\n",
       "    <tr>\n",
       "      <th>SU</th>\n",
       "      <td>5</td>\n",
       "      <td>1</td>\n",
       "      <td>4</td>\n",
       "      <td>0</td>\n",
       "      <td>115</td>\n",
       "      <td>0</td>\n",
       "      <td>0</td>\n",
       "      <td>1</td>\n",
       "    </tr>\n",
       "    <tr>\n",
       "      <th>MH</th>\n",
       "      <td>5</td>\n",
       "      <td>0</td>\n",
       "      <td>3</td>\n",
       "      <td>0</td>\n",
       "      <td>3</td>\n",
       "      <td>59</td>\n",
       "      <td>4</td>\n",
       "      <td>0</td>\n",
       "    </tr>\n",
       "    <tr>\n",
       "      <th>NV</th>\n",
       "      <td>8</td>\n",
       "      <td>0</td>\n",
       "      <td>8</td>\n",
       "      <td>0</td>\n",
       "      <td>0</td>\n",
       "      <td>0</td>\n",
       "      <td>89</td>\n",
       "      <td>1</td>\n",
       "    </tr>\n",
       "    <tr>\n",
       "      <th>OK</th>\n",
       "      <td>2</td>\n",
       "      <td>2</td>\n",
       "      <td>10</td>\n",
       "      <td>0</td>\n",
       "      <td>1</td>\n",
       "      <td>0</td>\n",
       "      <td>0</td>\n",
       "      <td>81</td>\n",
       "    </tr>\n",
       "  </tbody>\n",
       "</table>\n",
       "</div>"
      ],
      "text/plain": [
       "     IE   HF   IV  AD   SU  MH  NV  OK\n",
       "IE  131    4   14   1    1   0   0   3\n",
       "HF    2  150    3   0    4   0   0   0\n",
       "IV   11    1  204   2    4   0   1   5\n",
       "AD    6    0   12  34    1   0   0   0\n",
       "SU    5    1    4   0  115   0   0   1\n",
       "MH    5    0    3   0    3  59   4   0\n",
       "NV    8    0    8   0    0   0  89   1\n",
       "OK    2    2   10   0    1   0   0  81"
      ]
     },
     "execution_count": 92,
     "metadata": {},
     "output_type": "execute_result"
    }
   ],
   "source": [
    "res_df"
   ]
  },
  {
   "cell_type": "markdown",
   "metadata": {},
   "source": [
    "## Next steps\n",
    "- Define metrics\n",
    "- Plot\n",
    "- Script evolution\n",
    "- Think about steps"
   ]
  },
  {
   "cell_type": "code",
   "execution_count": 93,
   "metadata": {},
   "outputs": [],
   "source": [
    "import mlflow"
   ]
  },
  {
   "cell_type": "code",
   "execution_count": 94,
   "metadata": {},
   "outputs": [
    {
     "name": "stderr",
     "output_type": "stream",
     "text": [
      "2019/05/19 06:57:52 WARNING mlflow.tracking.context: Failed to import Git (the Git executable is probably not on your PATH), so Git SHA is not available. Error: Failed to initialize: Bad git executable.\n",
      "The git executable must be specified in one of the following ways:\n",
      "    - be included in your $PATH\n",
      "    - be set via $GIT_PYTHON_GIT_EXECUTABLE\n",
      "    - explicitly set via git.refresh()\n",
      "\n",
      "All git commands will error until this is rectified.\n",
      "\n",
      "This initial warning can be silenced or aggravated in the future by setting the\n",
      "$GIT_PYTHON_REFRESH environment variable. Use one of the following values:\n",
      "    - quiet|q|silence|s|none|n|0: for no warning or exception\n",
      "    - warn|w|warning|1: for a printed warning\n",
      "    - error|e|raise|r|2: for a raised exception\n",
      "\n",
      "Example:\n",
      "    export GIT_PYTHON_REFRESH=quiet\n",
      "\n"
     ]
    },
    {
     "ename": "MlflowException",
     "evalue": "Could not find a registered tracking store for: C:\\Users\\thotho\\Documents\\Repos\\meetup-mlflow\\mlruns. Currently registered schemes are: ['', 'file', 'databricks', 'http', 'https', 'postgresql', 'mysql', 'sqlite', 'mssql']",
     "output_type": "error",
     "traceback": [
      "\u001b[1;31m---------------------------------------------------------------------------\u001b[0m",
      "\u001b[1;31mKeyError\u001b[0m                                  Traceback (most recent call last)",
      "\u001b[1;32mc:\\programdata\\anaconda3\\envs\\mlflow-demo\\lib\\site-packages\\mlflow\\tracking\\utils.py\u001b[0m in \u001b[0;36mget_store\u001b[1;34m(self, store_uri, artifact_uri)\u001b[0m\n\u001b[0;32m    244\u001b[0m         \u001b[1;32mtry\u001b[0m\u001b[1;33m:\u001b[0m\u001b[1;33m\u001b[0m\u001b[0m\n\u001b[1;32m--> 245\u001b[1;33m             \u001b[0mstore_builder\u001b[0m \u001b[1;33m=\u001b[0m \u001b[0mself\u001b[0m\u001b[1;33m.\u001b[0m\u001b[0m_registry\u001b[0m\u001b[1;33m[\u001b[0m\u001b[0mscheme\u001b[0m\u001b[1;33m]\u001b[0m\u001b[1;33m\u001b[0m\u001b[0m\n\u001b[0m\u001b[0;32m    246\u001b[0m         \u001b[1;32mexcept\u001b[0m \u001b[0mKeyError\u001b[0m\u001b[1;33m:\u001b[0m\u001b[1;33m\u001b[0m\u001b[0m\n",
      "\u001b[1;31mKeyError\u001b[0m: 'c'",
      "\nDuring handling of the above exception, another exception occurred:\n",
      "\u001b[1;31mMlflowException\u001b[0m                           Traceback (most recent call last)",
      "\u001b[1;32m<ipython-input-94-4a6d8b6acac4>\u001b[0m in \u001b[0;36m<module>\u001b[1;34m\u001b[0m\n\u001b[0;32m      3\u001b[0m \u001b[1;33m\u001b[0m\u001b[0m\n\u001b[0;32m      4\u001b[0m \u001b[1;31m# Log a parameter (key-value pair)\u001b[0m\u001b[1;33m\u001b[0m\u001b[1;33m\u001b[0m\u001b[0m\n\u001b[1;32m----> 5\u001b[1;33m \u001b[0mlog_param\u001b[0m\u001b[1;33m(\u001b[0m\u001b[1;34m\"param1\"\u001b[0m\u001b[1;33m,\u001b[0m \u001b[1;36m5\u001b[0m\u001b[1;33m)\u001b[0m\u001b[1;33m\u001b[0m\u001b[0m\n\u001b[0m\u001b[0;32m      6\u001b[0m \u001b[1;33m\u001b[0m\u001b[0m\n\u001b[0;32m      7\u001b[0m \u001b[1;31m# Log a metric; metrics can be updated throughout the run\u001b[0m\u001b[1;33m\u001b[0m\u001b[1;33m\u001b[0m\u001b[0m\n",
      "\u001b[1;32mc:\\programdata\\anaconda3\\envs\\mlflow-demo\\lib\\site-packages\\mlflow\\tracking\\fluent.py\u001b[0m in \u001b[0;36mlog_param\u001b[1;34m(key, value)\u001b[0m\n\u001b[0;32m    174\u001b[0m     \u001b[1;33m:\u001b[0m\u001b[0mparam\u001b[0m \u001b[0mvalue\u001b[0m\u001b[1;33m:\u001b[0m \u001b[0mParameter\u001b[0m \u001b[0mvalue\u001b[0m \u001b[1;33m(\u001b[0m\u001b[0mstring\u001b[0m\u001b[1;33m,\u001b[0m \u001b[0mbut\u001b[0m \u001b[0mwill\u001b[0m \u001b[0mbe\u001b[0m \u001b[0mstring\u001b[0m\u001b[1;33m-\u001b[0m\u001b[0mified\u001b[0m \u001b[1;32mif\u001b[0m \u001b[1;32mnot\u001b[0m\u001b[1;33m)\u001b[0m\u001b[1;33m\u001b[0m\u001b[0m\n\u001b[0;32m    175\u001b[0m     \"\"\"\n\u001b[1;32m--> 176\u001b[1;33m     \u001b[0mrun_id\u001b[0m \u001b[1;33m=\u001b[0m \u001b[0m_get_or_start_run\u001b[0m\u001b[1;33m(\u001b[0m\u001b[1;33m)\u001b[0m\u001b[1;33m.\u001b[0m\u001b[0minfo\u001b[0m\u001b[1;33m.\u001b[0m\u001b[0mrun_uuid\u001b[0m\u001b[1;33m\u001b[0m\u001b[0m\n\u001b[0m\u001b[0;32m    177\u001b[0m     \u001b[0mMlflowClient\u001b[0m\u001b[1;33m(\u001b[0m\u001b[1;33m)\u001b[0m\u001b[1;33m.\u001b[0m\u001b[0mlog_param\u001b[0m\u001b[1;33m(\u001b[0m\u001b[0mrun_id\u001b[0m\u001b[1;33m,\u001b[0m \u001b[0mkey\u001b[0m\u001b[1;33m,\u001b[0m \u001b[0mvalue\u001b[0m\u001b[1;33m)\u001b[0m\u001b[1;33m\u001b[0m\u001b[0m\n\u001b[0;32m    178\u001b[0m \u001b[1;33m\u001b[0m\u001b[0m\n",
      "\u001b[1;32mc:\\programdata\\anaconda3\\envs\\mlflow-demo\\lib\\site-packages\\mlflow\\tracking\\fluent.py\u001b[0m in \u001b[0;36m_get_or_start_run\u001b[1;34m()\u001b[0m\n\u001b[0;32m    294\u001b[0m     \u001b[1;32mif\u001b[0m \u001b[0mlen\u001b[0m\u001b[1;33m(\u001b[0m\u001b[0m_active_run_stack\u001b[0m\u001b[1;33m)\u001b[0m \u001b[1;33m>\u001b[0m \u001b[1;36m0\u001b[0m\u001b[1;33m:\u001b[0m\u001b[1;33m\u001b[0m\u001b[0m\n\u001b[0;32m    295\u001b[0m         \u001b[1;32mreturn\u001b[0m \u001b[0m_active_run_stack\u001b[0m\u001b[1;33m[\u001b[0m\u001b[1;33m-\u001b[0m\u001b[1;36m1\u001b[0m\u001b[1;33m]\u001b[0m\u001b[1;33m\u001b[0m\u001b[0m\n\u001b[1;32m--> 296\u001b[1;33m     \u001b[1;32mreturn\u001b[0m \u001b[0mstart_run\u001b[0m\u001b[1;33m(\u001b[0m\u001b[1;33m)\u001b[0m\u001b[1;33m\u001b[0m\u001b[0m\n\u001b[0m\u001b[0;32m    297\u001b[0m \u001b[1;33m\u001b[0m\u001b[0m\n\u001b[0;32m    298\u001b[0m \u001b[1;33m\u001b[0m\u001b[0m\n",
      "\u001b[1;32mc:\\programdata\\anaconda3\\envs\\mlflow-demo\\lib\\site-packages\\mlflow\\tracking\\fluent.py\u001b[0m in \u001b[0;36mstart_run\u001b[1;34m(run_uuid, experiment_id, source_name, source_version, entry_point_name, source_type, run_name, nested)\u001b[0m\n\u001b[0;32m    139\u001b[0m         \u001b[0mtags\u001b[0m \u001b[1;33m=\u001b[0m \u001b[0mcontext\u001b[0m\u001b[1;33m.\u001b[0m\u001b[0mresolve_tags\u001b[0m\u001b[1;33m(\u001b[0m\u001b[0muser_specified_tags\u001b[0m\u001b[1;33m)\u001b[0m\u001b[1;33m\u001b[0m\u001b[0m\n\u001b[0;32m    140\u001b[0m \u001b[1;33m\u001b[0m\u001b[0m\n\u001b[1;32m--> 141\u001b[1;33m         active_run_obj = MlflowClient().create_run(\n\u001b[0m\u001b[0;32m    142\u001b[0m             \u001b[0mexperiment_id\u001b[0m\u001b[1;33m=\u001b[0m\u001b[0mexp_id_for_run\u001b[0m\u001b[1;33m,\u001b[0m\u001b[1;33m\u001b[0m\u001b[0m\n\u001b[0;32m    143\u001b[0m             \u001b[0mrun_name\u001b[0m\u001b[1;33m=\u001b[0m\u001b[0mrun_name\u001b[0m\u001b[1;33m,\u001b[0m\u001b[1;33m\u001b[0m\u001b[0m\n",
      "\u001b[1;32mc:\\programdata\\anaconda3\\envs\\mlflow-demo\\lib\\site-packages\\mlflow\\tracking\\client.py\u001b[0m in \u001b[0;36m__init__\u001b[1;34m(self, tracking_uri)\u001b[0m\n\u001b[0;32m     33\u001b[0m         \"\"\"\n\u001b[0;32m     34\u001b[0m         \u001b[0mself\u001b[0m\u001b[1;33m.\u001b[0m\u001b[0mtracking_uri\u001b[0m \u001b[1;33m=\u001b[0m \u001b[0mtracking_uri\u001b[0m \u001b[1;32mor\u001b[0m \u001b[0mutils\u001b[0m\u001b[1;33m.\u001b[0m\u001b[0mget_tracking_uri\u001b[0m\u001b[1;33m(\u001b[0m\u001b[1;33m)\u001b[0m\u001b[1;33m\u001b[0m\u001b[0m\n\u001b[1;32m---> 35\u001b[1;33m         \u001b[0mself\u001b[0m\u001b[1;33m.\u001b[0m\u001b[0mstore\u001b[0m \u001b[1;33m=\u001b[0m \u001b[0mutils\u001b[0m\u001b[1;33m.\u001b[0m\u001b[0m_get_store\u001b[0m\u001b[1;33m(\u001b[0m\u001b[0mself\u001b[0m\u001b[1;33m.\u001b[0m\u001b[0mtracking_uri\u001b[0m\u001b[1;33m)\u001b[0m\u001b[1;33m\u001b[0m\u001b[0m\n\u001b[0m\u001b[0;32m     36\u001b[0m \u001b[1;33m\u001b[0m\u001b[0m\n\u001b[0;32m     37\u001b[0m     \u001b[1;32mdef\u001b[0m \u001b[0mget_run\u001b[0m\u001b[1;33m(\u001b[0m\u001b[0mself\u001b[0m\u001b[1;33m,\u001b[0m \u001b[0mrun_id\u001b[0m\u001b[1;33m)\u001b[0m\u001b[1;33m:\u001b[0m\u001b[1;33m\u001b[0m\u001b[0m\n",
      "\u001b[1;32mc:\\programdata\\anaconda3\\envs\\mlflow-demo\\lib\\site-packages\\mlflow\\tracking\\utils.py\u001b[0m in \u001b[0;36m_get_store\u001b[1;34m(store_uri, artifact_uri)\u001b[0m\n\u001b[0;32m    270\u001b[0m \u001b[1;32mdef\u001b[0m \u001b[0m_get_store\u001b[0m\u001b[1;33m(\u001b[0m\u001b[0mstore_uri\u001b[0m\u001b[1;33m=\u001b[0m\u001b[1;32mNone\u001b[0m\u001b[1;33m,\u001b[0m \u001b[0martifact_uri\u001b[0m\u001b[1;33m=\u001b[0m\u001b[1;32mNone\u001b[0m\u001b[1;33m)\u001b[0m\u001b[1;33m:\u001b[0m\u001b[1;33m\u001b[0m\u001b[0m\n\u001b[0;32m    271\u001b[0m \u001b[1;33m\u001b[0m\u001b[0m\n\u001b[1;32m--> 272\u001b[1;33m     \u001b[1;32mreturn\u001b[0m \u001b[0m_tracking_store_registry\u001b[0m\u001b[1;33m.\u001b[0m\u001b[0mget_store\u001b[0m\u001b[1;33m(\u001b[0m\u001b[0mstore_uri\u001b[0m\u001b[1;33m,\u001b[0m \u001b[0martifact_uri\u001b[0m\u001b[1;33m)\u001b[0m\u001b[1;33m\u001b[0m\u001b[0m\n\u001b[0m\u001b[0;32m    273\u001b[0m \u001b[1;33m\u001b[0m\u001b[0m\n\u001b[0;32m    274\u001b[0m \u001b[1;33m\u001b[0m\u001b[0m\n",
      "\u001b[1;32mc:\\programdata\\anaconda3\\envs\\mlflow-demo\\lib\\site-packages\\mlflow\\tracking\\utils.py\u001b[0m in \u001b[0;36mget_store\u001b[1;34m(self, store_uri, artifact_uri)\u001b[0m\n\u001b[0;32m    248\u001b[0m                 \u001b[1;34m\"Could not find a registered tracking store for: {}. \"\u001b[0m\u001b[1;33m\u001b[0m\u001b[0m\n\u001b[0;32m    249\u001b[0m                 \"Currently registered schemes are: {}\".format(\n\u001b[1;32m--> 250\u001b[1;33m                     \u001b[0mstore_uri\u001b[0m\u001b[1;33m,\u001b[0m \u001b[0mlist\u001b[0m\u001b[1;33m(\u001b[0m\u001b[0mself\u001b[0m\u001b[1;33m.\u001b[0m\u001b[0m_registry\u001b[0m\u001b[1;33m.\u001b[0m\u001b[0mkeys\u001b[0m\u001b[1;33m(\u001b[0m\u001b[1;33m)\u001b[0m\u001b[1;33m)\u001b[0m\u001b[1;33m\u001b[0m\u001b[0m\n\u001b[0m\u001b[0;32m    251\u001b[0m                 )\n\u001b[0;32m    252\u001b[0m             )\n",
      "\u001b[1;31mMlflowException\u001b[0m: Could not find a registered tracking store for: C:\\Users\\thotho\\Documents\\Repos\\meetup-mlflow\\mlruns. Currently registered schemes are: ['', 'file', 'databricks', 'http', 'https', 'postgresql', 'mysql', 'sqlite', 'mssql']"
     ]
    }
   ],
   "source": [
    "import os\n",
    "from mlflow import log_metric, log_param, log_artifact\n",
    "\n",
    "# Log a parameter (key-value pair)\n",
    "log_param(\"param1\", 5)\n",
    "\n",
    "# Log a metric; metrics can be updated throughout the run\n",
    "log_metric(\"foo\", 1)\n",
    "log_metric(\"foo\", 2)\n",
    "log_metric(\"foo\", 3)\n",
    "\n",
    "# Log an artifact (output file)\n",
    "with open(\"output.txt\", \"w\") as f:\n",
    "    f.write(\"Hello world!\")\n",
    "log_artifact(\"output.txt\")\n"
   ]
  },
  {
   "cell_type": "code",
   "execution_count": null,
   "metadata": {},
   "outputs": [],
   "source": []
  }
 ],
 "metadata": {
  "kernelspec": {
   "display_name": "Python 3",
   "language": "python",
   "name": "python3"
  },
  "language_info": {
   "codemirror_mode": {
    "name": "ipython",
    "version": 3
   },
   "file_extension": ".py",
   "mimetype": "text/x-python",
   "name": "python",
   "nbconvert_exporter": "python",
   "pygments_lexer": "ipython3",
   "version": "3.7.0"
  }
 },
 "nbformat": 4,
 "nbformat_minor": 2
}
